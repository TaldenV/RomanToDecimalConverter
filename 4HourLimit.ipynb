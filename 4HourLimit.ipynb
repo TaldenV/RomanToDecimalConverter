{
  "nbformat": 4,
  "nbformat_minor": 0,
  "metadata": {
    "colab": {
      "name": "4HourLimit.ipynb",
      "provenance": []
    },
    "kernelspec": {
      "name": "python3",
      "display_name": "Python 3"
    },
    "language_info": {
      "name": "python"
    }
  },
  "cells": [
    {
      "cell_type": "code",
      "execution_count": 1,
      "metadata": {
        "id": "6YAs415RK1QJ"
      },
      "outputs": [],
      "source": [
        "def romanToDecimal(str):\n",
        "  count = 0\n",
        "  arr = [[\"C\",\"D\",\"M\"],[\"X\",\"L\",\"C\"],[\"I\",\"V\",\"X\"]]\n",
        "  \n",
        "  for i in range(3):\n",
        "\n",
        "    count *= 10\n",
        "\n",
        "    # check str\n",
        "    try:\n",
        "      chr = str[0]\n",
        "    except IndexError:\n",
        "      return count;\n",
        "\n",
        "    if (i == 0 and chr == \"M\"):\n",
        "      dups = handleDuplicates(str)\n",
        "      count += dups * 10\n",
        "      str = str[dups:]\n",
        "      try:\n",
        "        chr = str[0]\n",
        "      except IndexError:\n",
        "        return count * 100;\n",
        "\n",
        "\n",
        "    for j in range(3):\n",
        "\n",
        "      # determine the char\n",
        "      if (chr == arr[i][j]):\n",
        "\n",
        "        # C, X, I = 1\n",
        "        if (j == 0):\n",
        "\n",
        "          # check str + 1\n",
        "          try:\n",
        "            next = str[1]\n",
        "\n",
        "            for k in range(3):\n",
        "              if (next == arr[i][k]):\n",
        "                # III, XXX, CCC\n",
        "                if (k == 0):\n",
        "                  dups = handleDuplicates(str)\n",
        "                  count += dups\n",
        "                  str = str[dups:]\n",
        "                # IV, XL, or CD\n",
        "                elif (k == 1):\n",
        "                  count += 4\n",
        "                  str = str[1:]\n",
        "                # IX, XC, CM\n",
        "                elif (k == 2):\n",
        "                  count += 9\n",
        "                  str = str[1:]\n",
        "          except IndexError: # there's no next char\n",
        "            count += 1 + (10 ** (3 - i)) # include all the remaining loops\n",
        "            return count\n",
        "\n",
        "        # D, L, V = 5 (occours once)\n",
        "        elif (j == 1):\n",
        "          count += 5\n",
        "          str = str[1:]\n",
        "\n",
        "        # M, C, X = 10 (occours 1-3 times)\n",
        "        elif (j == 2):\n",
        "          dups = handleDuplicates(str)\n",
        "          count += dups * 10\n",
        "          str = str[dups:]\n",
        "      \n",
        "  return count;\n",
        "\n",
        "# returns and removes total duplicate chars at beginning of str\n",
        "def handleDuplicates(str):\n",
        "  count = 1\n",
        "\n",
        "  for i in range(2):\n",
        "    try:\n",
        "      char1 = str[1]\n",
        "    except:\n",
        "      return count\n",
        "    \n",
        "    if (str[0] == char1):\n",
        "      count += 1\n",
        "      str = str[1:]\n",
        "    else:\n",
        "      return count\n",
        "\n",
        "  return count"
      ]
    },
    {
      "cell_type": "code",
      "source": [
        "def decimalToRoman(val):\n",
        "  return \"I\";"
      ],
      "metadata": {
        "id": "oGQMjHDWK2_p"
      },
      "execution_count": 2,
      "outputs": []
    },
    {
      "cell_type": "code",
      "source": [
        "from IPython.display import clear_output\n",
        "\n",
        "isTrue = 1\n",
        "while isTrue == 1:\n",
        "  clear_output(wait=True)\n",
        "  val = input(\"Enter your value (0 to stop): \")\n",
        "  if val.strip().isdigit():\n",
        "    if int(val) == 0:\n",
        "      isTrue = 0\n",
        "      print(\"leaving\")\n",
        "    else:\n",
        "      print(decimalToRoman(int(val)))\n",
        "  else:\n",
        "    print(romanToDecimal(val.strip().upper()))"
      ],
      "metadata": {
        "id": "Ufx5-W3SK6kt"
      },
      "execution_count": null,
      "outputs": []
    }
  ]
}